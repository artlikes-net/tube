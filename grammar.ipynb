{
 "cells": [
  {
   "cell_type": "code",
   "execution_count": 1,
   "metadata": {},
   "outputs": [],
   "source": [
    "import json"
   ]
  },
  {
   "cell_type": "code",
   "execution_count": 3,
   "metadata": {},
   "outputs": [],
   "source": [
    "sourceFile = 'outputs/transcripts/sjV7NNwm1GU.json'\n",
    "with open(sourceFile, 'r') as f:\n",
    "    data = json.load(f)\n",
    "\n",
    "text_content = ' '.join([item['text'] for item in data])\n",
    "\n",
    "with open('output.txt', 'w') as f:\n",
    "    f.write(text_content)"
   ]
  },
  {
   "cell_type": "code",
   "execution_count": 14,
   "metadata": {},
   "outputs": [
    {
     "name": "stderr",
     "output_type": "stream",
     "text": [
      "INFO:httpx:HTTP Request: POST http://localhost:11434/api/generate \"HTTP/1.1 200 OK\"\n"
     ]
    }
   ],
   "source": [
    "import httpx\n",
    "import logging\n",
    "\n",
    "# Set up logging\n",
    "logging.basicConfig(level=logging.INFO)\n",
    "logger = logging.getLogger(__name__)\n",
    "\n",
    "OLLAMA_ENDPOINT = \"http://localhost:11434/api/generate\"\n",
    "\n",
    "def fix_punctuation(text):\n",
    "    prompt = f\"\"\"Please add missing punctuation marks to this text, ensuring that all sentences are properly punctuated. Do not add, remove, or modify any words. Preserve the exact original word order and content. Only correct punctuation errors such as missing periods, commas, or other necessary marks. Do not summarize or paraphrase the text.\n",
    "\n",
    "{text}\n",
    "\n",
    "Return only the corrected text, do not include a preamble.\"\"\"\n",
    "\n",
    "    response = httpx.post(\n",
    "        OLLAMA_ENDPOINT,\n",
    "        json={\n",
    "            \"model\": \"llama3.2:latest\",\n",
    "            #\"model\": \"ifioravanti/mistral-grammar-checker\",\n",
    "            \"prompt\": prompt,\n",
    "            \"stream\": False\n",
    "        },\n",
    "        headers={\"Content-Type\": \"application/json\"},\n",
    "        timeout=500\n",
    "    )\n",
    "\n",
    "    if response.status_code != 200:\n",
    "        logger.error(f\"Error {response.status_code}: {response.text}\")\n",
    "        return None\n",
    "\n",
    "    return response.json()[\"response\"].strip()\n",
    "\n",
    "# Read the transcript file\n",
    "with open(\"output.txt\", \"r\") as file:\n",
    "    transcript = file.read()\n",
    "\n",
    "# Fix punctuation\n",
    "corrected_transcript = fix_punctuation(transcript)\n",
    "\n",
    "# Save the corrected transcript\n",
    "if corrected_transcript is not None:\n",
    "    with open(\"corrected_transcript.txt\", \"w\") as file:\n",
    "        file.write(corrected_transcript)\n",
    "else:\n",
    "    logger.error(\"Failed to correct punctuation.\")\n"
   ]
  }
 ],
 "metadata": {
  "kernelspec": {
   "display_name": "utube311",
   "language": "python",
   "name": "python3"
  },
  "language_info": {
   "codemirror_mode": {
    "name": "ipython",
    "version": 3
   },
   "file_extension": ".py",
   "mimetype": "text/x-python",
   "name": "python",
   "nbconvert_exporter": "python",
   "pygments_lexer": "ipython3",
   "version": "3.11.11"
  }
 },
 "nbformat": 4,
 "nbformat_minor": 2
}
