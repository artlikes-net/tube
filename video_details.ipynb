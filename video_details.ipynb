{
 "cells": [
  {
   "cell_type": "code",
   "execution_count": 3,
   "metadata": {},
   "outputs": [],
   "source": [
    "import os"
   ]
  },
  {
   "cell_type": "code",
   "execution_count": 4,
   "metadata": {},
   "outputs": [
    {
     "name": "stdout",
     "output_type": "stream",
     "text": [
      "5760-L01-Videos.txt\n",
      "['https://www.youtube.com/watch?v=zbFHYjaqjzw', 'https://www.youtube.com/watch?v=sjV7NNwm1GU', 'https://www.youtube.com/watch?v=-Xj7zDwwU_I', 'https://www.youtube.com/watch?v=eKN22NFl58U', 'https://www.youtube.com/watch?v=sM-VI3alvAI', 'https://www.youtube.com/watch?v=QLT1vrnJXWI', 'https://www.youtube.com/watch?v=dhRIHF1DENI', 'https://www.youtube.com/watch?v=rphiCdR68TE', 'https://www.youtube.com/watch?v=z7aqJpKfPC0&t=79s', 'https://www.youtube.com/watch?v=SXmVnHgwOZs&t=25s']\n",
      "\n"
     ]
    }
   ],
   "source": [
    "# loop through all files in the import directory\n",
    "for filename in os.listdir('import'):\n",
    "    # open the file\n",
    "    with open('import/' + filename) as file:\n",
    "        # array to store the content of the file line by line\n",
    "        content = []\n",
    "        # loop through each line in the file\n",
    "        for line in file:\n",
    "            # remove the newline character from the end of the line\n",
    "            line = line.rstrip()\n",
    "            # remove the ' \\u200b' character from the end of the line\n",
    "            line = line.replace(' \\u200b', '')\n",
    "            # add the line to the content array\n",
    "            content.append(line)\n",
    "            \n",
    "\n",
    "# print the filename and the content of the file\n",
    "print(filename)\n",
    "print(content)\n",
    "print()\n",
    "        "
   ]
  },
  {
   "cell_type": "code",
   "execution_count": 5,
   "metadata": {},
   "outputs": [
    {
     "name": "stdout",
     "output_type": "stream",
     "text": [
      "https://www.youtube.com/watch?v=zbFHYjaqjzw\n"
     ]
    }
   ],
   "source": [
    "print(content[0])"
   ]
  },
  {
   "cell_type": "code",
   "execution_count": 6,
   "metadata": {},
   "outputs": [],
   "source": [
    "from dotenv import load_dotenv\n",
    "load_dotenv()\n",
    "googleKey = os.getenv('googleKey')\n",
    "\n",
    "from googleapiclient.discovery import build\n",
    "youtube = build('youtube', 'v3', developerKey=googleKey)"
   ]
  },
  {
   "cell_type": "code",
   "execution_count": 11,
   "metadata": {},
   "outputs": [],
   "source": [
    "def get_video_id_from_url(url):\n",
    "    return url.split('=')[1]\n",
    "\n",
    "def get_video_details(youtube, **kwargs):\n",
    "    results = youtube.videos().list(\n",
    "        part='snippet,contentDetails,statistics',\n",
    "        **kwargs\n",
    "    ).execute()\n",
    "    return results\n",
    "\n",
    "def get_video_snippet(youtube, video_id):\n",
    "    results = youtube.videos().list(\n",
    "        part='snippet', id=video_id\n",
    "    ).execute()\n",
    "    return results"
   ]
  },
  {
   "cell_type": "code",
   "execution_count": 13,
   "metadata": {},
   "outputs": [
    {
     "name": "stdout",
     "output_type": "stream",
     "text": [
      "{'kind': 'youtube#videoListResponse', 'etag': 'CLM4CxSTyV0iNX9fdOv7CZ111SU', 'items': [{'kind': 'youtube#video', 'etag': 'QlXJIzzYwDL9IsepdCPJ5P_BL-U', 'id': 'zbFHYjaqjzw', 'snippet': {'publishedAt': '2010-06-01T19:44:49Z', 'channelId': 'UCPdYdBANpg4nYZKtSi4Du5A', 'title': 'What is Nano', 'description': 'For more science related videos, games, and activities, head to : http://wonderville.ca', 'thumbnails': {'default': {'url': 'https://i.ytimg.com/vi/zbFHYjaqjzw/default.jpg', 'width': 120, 'height': 90}, 'medium': {'url': 'https://i.ytimg.com/vi/zbFHYjaqjzw/mqdefault.jpg', 'width': 320, 'height': 180}, 'high': {'url': 'https://i.ytimg.com/vi/zbFHYjaqjzw/hqdefault.jpg', 'width': 480, 'height': 360}}, 'channelTitle': 'sciencehappenshere', 'tags': ['animation art', 'environment', 'nano', 'technology', 'medical'], 'categoryId': '27', 'liveBroadcastContent': 'none', 'localized': {'title': 'What is Nano', 'description': 'For more science related videos, games, and activities, head to : http://wonderville.ca'}}, 'contentDetails': {'duration': 'PT3M52S', 'dimension': '2d', 'definition': 'sd', 'caption': 'false', 'licensedContent': False, 'contentRating': {}, 'projection': 'rectangular'}, 'statistics': {'viewCount': '36682', 'likeCount': '254', 'favoriteCount': '0', 'commentCount': '10'}}], 'pageInfo': {'totalResults': 1, 'resultsPerPage': 1}}\n",
      "{'kind': 'youtube#videoListResponse', 'etag': 'iz3LYr6ps2gryDYxhzIVL3YJFSs', 'items': [{'kind': 'youtube#video', 'etag': '9PLiC_iFEFufScr3AzsvTj9rBbI', 'id': 'zbFHYjaqjzw', 'snippet': {'publishedAt': '2010-06-01T19:44:49Z', 'channelId': 'UCPdYdBANpg4nYZKtSi4Du5A', 'title': 'What is Nano', 'description': 'For more science related videos, games, and activities, head to : http://wonderville.ca', 'thumbnails': {'default': {'url': 'https://i.ytimg.com/vi/zbFHYjaqjzw/default.jpg', 'width': 120, 'height': 90}, 'medium': {'url': 'https://i.ytimg.com/vi/zbFHYjaqjzw/mqdefault.jpg', 'width': 320, 'height': 180}, 'high': {'url': 'https://i.ytimg.com/vi/zbFHYjaqjzw/hqdefault.jpg', 'width': 480, 'height': 360}}, 'channelTitle': 'sciencehappenshere', 'tags': ['animation art', 'environment', 'nano', 'technology', 'medical'], 'categoryId': '27', 'liveBroadcastContent': 'none', 'localized': {'title': 'What is Nano', 'description': 'For more science related videos, games, and activities, head to : http://wonderville.ca'}}}], 'pageInfo': {'totalResults': 1, 'resultsPerPage': 1}}\n"
     ]
    }
   ],
   "source": [
    "video_id = get_video_id_from_url(content[0])\n",
    "video_details = get_video_details(youtube, id=video_id)\n",
    "print(video_details)\n",
    "video_snippet = get_video_snippet(youtube, video_id=video_id)\n",
    "print(video_snippet)"
   ]
  },
  {
   "cell_type": "code",
   "execution_count": null,
   "metadata": {},
   "outputs": [],
   "source": [
    "#from dotenv import load_dotenv\n",
    "from googleapiclient.discovery import build\n",
    "import re\n",
    "\n",
    "#load_dotenv()\n",
    "# Replace with your actual API key\n",
    "#googleKey = os.getenv('googleKey')\n",
    "\n",
    "# Create a YouTube API client\n",
    "youtube = build('youtube', 'v3', developerKey=googleKey)\n",
    "\n",
    "def remove_time_tag(url):\n",
    "    # Remove time tag if present\n",
    "    return re.sub(r'[&?]t=\\d+[hms]?(&?)', r'\\1', url)\n",
    "\n",
    "def get_video_info(url):\n",
    "    # Remove time tag\n",
    "    clean_url = remove_time_tag(url)\n",
    "    \n",
    "    # Extract video ID\n",
    "    video_id_match = re.search(r'(?:v=|\\/)([0-9A-Za-z_-]{11}).*', clean_url)\n",
    "    if not video_id_match:\n",
    "        return None, None\n",
    "    \n",
    "    video_id = video_id_match.group(1)\n",
    "    \n",
    "    # Get video details\n",
    "    try:\n",
    "        response = youtube.videos().list(\n",
    "            part='snippet',\n",
    "            id=video_id\n",
    "        ).execute()\n",
    "        \n",
    "        if not response['items']:\n",
    "            return None, None\n",
    "        \n",
    "        channel_id = response['items'][0]['snippet']['channelId']\n",
    "        channel_title = response['items'][0]['snippet']['channelTitle']\n",
    "        \n",
    "        return channel_title, channel_id, video_id\n",
    "    except Exception as e:\n",
    "        print(f\"An error occurred: {e}\")\n",
    "        return None, None"
   ]
  },
  {
   "cell_type": "code",
   "execution_count": 12,
   "metadata": {},
   "outputs": [
    {
     "name": "stdout",
     "output_type": "stream",
     "text": [
      "Video ID: zbFHYjaqjzw\n",
      "Channel Name: sciencehappenshere\n",
      "Channel ID: UCPdYdBANpg4nYZKtSi4Du5A\n"
     ]
    }
   ],
   "source": [
    "video_url = content[0]\n",
    "channel_name, channel_id, video_id = get_video_info(video_url)\n",
    "\n",
    "if channel_name and channel_id:\n",
    "    print(f\"Video ID: {video_id}\")\n",
    "    print(f\"Channel Name: {channel_name}\")\n",
    "    print(f\"Channel ID: {channel_id}\")\n",
    "else:\n",
    "    print(\"Could not retrieve channel information.\")"
   ]
  }
 ],
 "metadata": {
  "kernelspec": {
   "display_name": "utube",
   "language": "python",
   "name": "python3"
  },
  "language_info": {
   "codemirror_mode": {
    "name": "ipython",
    "version": 3
   },
   "file_extension": ".py",
   "mimetype": "text/x-python",
   "name": "python",
   "nbconvert_exporter": "python",
   "pygments_lexer": "ipython3",
   "version": "3.10.16"
  }
 },
 "nbformat": 4,
 "nbformat_minor": 2
}
