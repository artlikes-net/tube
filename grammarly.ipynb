{
 "cells": [
  {
   "cell_type": "code",
   "execution_count": 6,
   "metadata": {},
   "outputs": [
    {
     "name": "stdout",
     "output_type": "stream",
     "text": [
      "['https://www.youtube.com/watch?v=zbFHYjaqjzw', 'https://www.youtube.com/watch?v=sjV7NNwm1GU', 'https://www.youtube.com/watch?v=-Xj7zDwwU_I', 'https://www.youtube.com/watch?v=eKN22NFl58U', 'https://www.youtube.com/watch?v=sM-VI3alvAI', 'https://www.youtube.com/watch?v=QLT1vrnJXWI', 'https://www.youtube.com/watch?v=dhRIHF1DENI', 'https://www.youtube.com/watch?v=rphiCdR68TE', 'https://www.youtube.com/watch?v=z7aqJpKfPC0', 'https://www.youtube.com/watch?v=SXmVnHgwOZs']\n",
      "['zbFHYjaqjzw', 'sjV7NNwm1GU', '-Xj7zDwwU_I', 'eKN22NFl58U', 'sM-VI3alvAI', 'QLT1vrnJXWI', 'dhRIHF1DENI', 'rphiCdR68TE', 'z7aqJpKfPC0', 'SXmVnHgwOZs']\n"
     ]
    }
   ],
   "source": [
    "import os\n",
    "import re\n",
    "from urllib.parse import urlparse, parse_qs\n",
    "\n",
    "src_dir = 'import'\n",
    "video_urls = []\n",
    "video_ids = []\n",
    "\n",
    "# loop through all files in the import directory\n",
    "for file in os.listdir(src_dir):\n",
    "    with open(os.path.join(src_dir, file)) as f:\n",
    "\n",
    "        for line in f:\n",
    "            line = line.rstrip()\n",
    "            line = line.replace(' \\u200b', '')\n",
    "            url = re.sub(r'[&?]t=\\d+[hms]?(&?)', r'\\1', line)\n",
    "            video_urls.append(url)\n",
    "\n",
    "            parsed_url = urlparse(url)\n",
    "            if parsed_url.query:\n",
    "                id = parse_qs(parsed_url.query).get(['v'][0])\n",
    "            \n",
    "            id = url.split('=')[1]\n",
    "            video_ids.append(id)\n",
    "\n",
    "print(video_urls)\n",
    "print(video_ids)"
   ]
  },
  {
   "cell_type": "code",
   "execution_count": 4,
   "metadata": {},
   "outputs": [
    {
     "name": "stdout",
     "output_type": "stream",
     "text": [
      "['https://www.youtube.com/watch?v=zbFHYjaqjzw', 'https://www.youtube.com/watch?v=sjV7NNwm1GU', 'https://www.youtube.com/watch?v=-Xj7zDwwU_I', 'https://www.youtube.com/watch?v=eKN22NFl58U', 'https://www.youtube.com/watch?v=sM-VI3alvAI', 'https://www.youtube.com/watch?v=QLT1vrnJXWI', 'https://www.youtube.com/watch?v=dhRIHF1DENI', 'https://www.youtube.com/watch?v=rphiCdR68TE', 'https://www.youtube.com/watch?v=z7aqJpKfPC0', 'https://www.youtube.com/watch?v=SXmVnHgwOZs']\n"
     ]
    }
   ],
   "source": [
    "print(content)"
   ]
  }
 ],
 "metadata": {
  "kernelspec": {
   "display_name": "yt311",
   "language": "python",
   "name": "python3"
  },
  "language_info": {
   "codemirror_mode": {
    "name": "ipython",
    "version": 3
   },
   "file_extension": ".py",
   "mimetype": "text/x-python",
   "name": "python",
   "nbconvert_exporter": "python",
   "pygments_lexer": "ipython3",
   "version": "3.11.11"
  }
 },
 "nbformat": 4,
 "nbformat_minor": 2
}
