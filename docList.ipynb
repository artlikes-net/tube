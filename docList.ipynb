{
 "cells": [
  {
   "cell_type": "code",
   "execution_count": 1,
   "metadata": {},
   "outputs": [],
   "source": [
    "import os\n",
    "\n",
    "import_path = '/Users/hochiyau/dev/youtube/import'\n",
    "\n",
    "# list out files in import directory\n",
    "files = os.listdir(import_path)\n",
    "\n",
    "# loop through files\n",
    "video_urls = []\n",
    "for file in files:\n",
    "    # open each file\n",
    "    with open(os.path.join(import_path, file), 'r') as f:\n",
    "        # read each line of f\n",
    "        for line in f:\n",
    "            # check if line is a youtube video url\n",
    "            if line.startswith('https://www.youtube.com/watch?'):\n",
    "                video_url = line[:43]\n",
    "                # append video_url to a new list\n",
    "                \n",
    "                video_urls.append(video_url)\n",
    "            else:\n",
    "                print('Invalid URL: ' + line)\n"
   ]
  },
  {
   "cell_type": "code",
   "execution_count": 14,
   "metadata": {},
   "outputs": [
    {
     "name": "stdout",
     "output_type": "stream",
     "text": [
      "['https://www.youtube.com/watch?v=zbFHYjaqjzw', 'https://www.youtube.com/watch?v=sjV7NNwm1GU', 'https://www.youtube.com/watch?v=-Xj7zDwwU_I', 'https://www.youtube.com/watch?v=eKN22NFl58U', 'https://www.youtube.com/watch?v=sM-VI3alvAI', 'https://www.youtube.com/watch?v=QLT1vrnJXWI', 'https://www.youtube.com/watch?v=dhRIHF1DENI', 'https://www.youtube.com/watch?v=rphiCdR68TE', 'https://www.youtube.com/watch?v=z7aqJpKfPC0', 'https://www.youtube.com/watch?v=SXmVnHgwOZs']\n"
     ]
    }
   ],
   "source": [
    "print(video_urls)"
   ]
  },
  {
   "cell_type": "code",
   "execution_count": 2,
   "metadata": {},
   "outputs": [
    {
     "name": "stdout",
     "output_type": "stream",
     "text": [
      "Title of video: What is Nano\n",
      "Title of video: Bio Nano Technology-New Frontiers in Molecular Engineering: Andreas Mershin at TEDxAthens\n",
      "Title of video: 2   3   1 3 Nanostructures  2 D and 3 D 8 01\n",
      "Title of video: Surface Plasmon Resonance Explained\n",
      "Title of video: Comparing LSPR and SPR for Diagnostics - LamdaGen\n",
      "Title of video: Color by Size: Quantum Dots\n",
      "Title of video: Making Graphene 101, Ozyilmaz' Group\n",
      "Title of video: What is quantum dot?\n",
      "Title of video: ChemMatters - Graphene: The Next Wonder Material?\n"
     ]
    }
   ],
   "source": [
    "# -*- coding: utf-8 -*-\n",
    "\n",
    "# Sample Python code for youtube.captions.list\n",
    "# See instructions for running these code samples locally:\n",
    "# https://developers.google.com/explorer-help/code-samples#python\n",
    "\n",
    "import os\n",
    "\n",
    "from googleapiclient.discovery import build\n",
    "\n",
    "DEVELOPER_KEY = os.environ.get('googleKey')\n",
    "\n",
    "class YouTube():\n",
    "    def __init__(self, query, maxResults):\n",
    "        self.query = query\n",
    "        self.maxResults = maxResults\n",
    "    \n",
    "    def search(self):\n",
    "        youtube = build('youtube', 'v3', developerKey=DEVELOPER_KEY)\n",
    "\n",
    "        request = youtube.search().list(\n",
    "            part=\"id\",\n",
    "            type=\"video\",\n",
    "            maxResults=self.maxResults,\n",
    "            q=self.query\n",
    "        )\n",
    "        response = request.execute()\n",
    "\n",
    "        return response\n",
    "    \n",
    "    def get_video_details(self, count, video_id):\n",
    "        youtube = build('youtube', 'v3', developerKey=DEVELOPER_KEY)\n",
    "\n",
    "        request = youtube.videos().list(\n",
    "            part=\"snippet, statistics\",\n",
    "            id=video_id\n",
    "        )\n",
    "        details = request.execute()\n",
    "        title = details['items'][0]['snippet']['title']\n",
    "        print(f'Title of video: {title}')\n",
    "\n",
    "    def main(self):\n",
    "        results = self.search()\n",
    "        video_list = results['items']\n",
    "        for i in range(len(video_list)):\n",
    "            video_id = video_list[i]['id']['videoId']\n",
    "            self.get_video_details(i+1, video_id)\n",
    "        \n",
    "\n",
    "for video_url in video_urls:\n",
    "    query = video_url\n",
    "    maxResults = 1\n",
    "    yt = YouTube(query, maxResults)\n",
    "    yt.main()\n",
    "\n",
    "\n"
   ]
  }
 ],
 "metadata": {
  "kernelspec": {
   "display_name": "yt311",
   "language": "python",
   "name": "python3"
  },
  "language_info": {
   "codemirror_mode": {
    "name": "ipython",
    "version": 3
   },
   "file_extension": ".py",
   "mimetype": "text/x-python",
   "name": "python",
   "nbconvert_exporter": "python",
   "pygments_lexer": "ipython3",
   "version": "3.11.11"
  }
 },
 "nbformat": 4,
 "nbformat_minor": 2
}
