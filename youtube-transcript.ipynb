{
  "cells": [
    {
      "cell_type": "code",
      "execution_count": 1,
      "metadata": {},
      "outputs": [
        {
          "data": {
            "text/plain": [
              "'\\n%pip install python-dotenv\\n%pip google-api-python-client\\n'"
            ]
          },
          "execution_count": 1,
          "metadata": {},
          "output_type": "execute_result"
        }
      ],
      "source": [
        "\"\"\"\n",
        "%pip install python-dotenv\n",
        "%pip google-api-python-client\n",
        "\"\"\""
      ]
    },
    {
      "cell_type": "code",
      "execution_count": 2,
      "metadata": {},
      "outputs": [
        {
          "name": "stdout",
          "output_type": "stream",
          "text": [
            "Biomolecules (Updated 2023) by Amoeba Sisters was published in 2023\n"
          ]
        }
      ],
      "source": [
        "import os\n",
        "from dotenv import load_dotenv\n",
        "from googleapiclient.discovery import build\n",
        "\n",
        "# Load environment variables from a .env file\n",
        "load_dotenv()\n",
        "\n",
        "# Get the YouTube API developer key from the environment variables\n",
        "DEVELOPER_KEY = os.getenv('DEVELOPER_KEY')\n",
        "\n",
        "# Build the YouTube service object\n",
        "youtube = build('youtube', 'v3', developerKey=DEVELOPER_KEY)\n",
        "\n",
        "def get_video_title(video_id):\n",
        "    # Extract the video ID from the URL\n",
        "    #video_id = video_url.split('v=')[-1]\n",
        "    \n",
        "    # Create a request to get the video details\n",
        "    request = youtube.videos().list(part='snippet', id=video_id)\n",
        "    \n",
        "    # Execute the request and get the response\n",
        "    response = request.execute()\n",
        "    \n",
        "    # Extract the video title from the response\n",
        "    title = response['items'][0]['snippet']['title']\n",
        "    # Extract the video channel title\n",
        "    channel_title = response['items'][0]['snippet']['channelTitle']\n",
        "    # Extract the video published date\n",
        "    published_date = response['items'][0]['snippet']['publishedAt']\n",
        "    \n",
        "    return title, channel_title, published_date\n",
        "\n",
        "# Example video URL\n",
        "video_url = \"https://www.youtube.com/watch?v=1Dx7LDwINLU\"\n",
        "video_id = video_url.split('v=')[-1]\n",
        "\n",
        "# Print the video context\n",
        "video_context = get_video_title(video_id)\n",
        "video_title = video_context[0]\n",
        "video_channel = video_context[1]\n",
        "video_published = video_context[2]\n",
        "video_datePublished = video_published.split('T')[0]\n",
        "video_yearPublished = video_datePublished.split('-')[0]\n",
        "\n",
        "print(f\"{video_title} by {video_channel} was published in {video_yearPublished}\")"
      ]
    },
    {
      "cell_type": "code",
      "execution_count": 3,
      "metadata": {},
      "outputs": [
        {
          "name": "stdout",
          "output_type": "stream",
          "text": [
            "Amoeba Sisters_2023_Biomolecules_Updated_2023.md\n"
          ]
        }
      ],
      "source": [
        "def create_filename(video_title, video_channel, video_yearPublished):\n",
        "    # Replace spaces with underscores\n",
        "    f_title = ''.join(e for e in video_title if e.isalnum() or e.isspace()).replace(' ', '_')\n",
        "    \n",
        "    # Concatenate the video title, channel, and published date\n",
        "    filename = f'{video_channel}_{video_yearPublished}_{f_title}.md'\n",
        "    \n",
        "    return filename\n",
        "\n",
        "# Create a filename for the video\n",
        "t_filename = create_filename(video_title, video_channel, video_yearPublished)\n",
        "print(t_filename)"
      ]
    },
    {
      "cell_type": "code",
      "execution_count": 4,
      "metadata": {},
      "outputs": [],
      "source": [
        "from pytube import YouTube\n",
        "from innertube import InnerTube\n",
        "from datetime import timedelta"
      ]
    },
    {
      "cell_type": "code",
      "execution_count": 5,
      "metadata": {},
      "outputs": [
        {
          "name": "stdout",
          "output_type": "stream",
          "text": [
            "Biomolecules (Updated 2023)\n"
          ]
        }
      ],
      "source": [
        "# Constant to identify the transcript panel in the YouTube engagement panels\n",
        "PANEL_IDENTIFIER_TRANSCRIPT = \"engagement-panel-searchable-transcript\"\n",
        "\n",
        "# Function to extract transcript parameters from the engagement panels in the provided `next_data`\n",
        "def extract_transcript_params(next_data):\n",
        "    engagement_panels = next_data[\"engagementPanels\"]\n",
        "\n",
        "    for engagement_panel in engagement_panels:\n",
        "        engagement_panel_section = engagement_panel[\n",
        "            \"engagementPanelSectionListRenderer\"\n",
        "        ]\n",
        "\n",
        "        # Check if the panel identifier matches the transcript panel identifier\n",
        "        if (\n",
        "            engagement_panel_section.get(\"panelIdentifier\")\n",
        "            != PANEL_IDENTIFIER_TRANSCRIPT\n",
        "        ):\n",
        "            continue\n",
        "\n",
        "        # Return the parameters required to fetch the transcript\n",
        "        return engagement_panel_section[\"content\"][\"continuationItemRenderer\"][\n",
        "            \"continuationEndpoint\"\n",
        "        ][\"getTranscriptEndpoint\"][\"params\"]\n",
        "\n",
        "\n",
        "#video_url = \"https://www.youtube.com/watch?v=1Dx7LDwINLU\"\n",
        "#yt = YouTube(video_url)\n",
        "#video_id = yt.video_id\n",
        "\n",
        "# Retrieve the video title with error handling\n",
        "try:\n",
        "    #video_title = yt.title\n",
        "    print(video_title)\n",
        "except Exception as e:\n",
        "    print(f\"Error retrieving video title: {e}\")\n",
        "    video_title = \"Unknown Title\"\n",
        "\n",
        "\n",
        "# Create an instance of the InnerTube client\n",
        "client = InnerTube(client_name=\"WEB\")\n",
        "\n",
        "# Fetch the initial data for the video\n",
        "data = client.next(video_id)\n",
        "\n",
        "# Extract the transcript parameters from the fetched data\n",
        "transcript_params = extract_transcript_params(data)\n",
        "\n",
        "# Retrieve the transcript using the extracted parameters\n",
        "transcript = client.get_transcript(transcript_params)\n",
        "\n",
        "# Access the list of transcript segments\n",
        "transcript_segments = transcript[\"actions\"][0][\"updateEngagementPanelAction\"][\n",
        "    \"content\"\n",
        "][\"transcriptRenderer\"][\"content\"][\"transcriptSearchPanelRenderer\"][\"body\"][\n",
        "    \"transcriptSegmentListRenderer\"\n",
        "][\n",
        "    \"initialSegments\"\n",
        "]\n",
        "\n",
        "# Open a new Markdown file for writing\n",
        "#with open(t_filename, w) as file:\n",
        "with open(f\"samples/{t_filename}\", \"w\") as file:\n",
        "    file.write(f\"# {video_title}\\n\")\n",
        "    file.write(f\"{video_title} by {video_channel} was published in {video_yearPublished}\\n\")\n",
        "    file.write(f\"{video_url}\\n\")\n",
        "    # Iterate over each segment in the list of transcript segments\n",
        "    for transcript_segment in transcript_segments:\n",
        "        # Check if the segment contains a transcript snippet\n",
        "        if \"transcriptSegmentRenderer\" in transcript_segment:\n",
        "            transcript_segment_renderer = transcript_segment[\"transcriptSegmentRenderer\"]\n",
        "            start_time = transcript_segment_renderer[\"startTimeText\"][\"simpleText\"]\n",
        "            snippet = transcript_segment_renderer[\"snippet\"][\"runs\"][0][\"text\"]\n",
        "            # Clean up the text snippet\n",
        "            snippet = snippet.replace(\"\\xa0\\xa0\", \" \")\n",
        "            snippet = snippet.replace(\"\\xa0\\n\", \" \")\n",
        "            # Write the cleaned snippet to the file\n",
        "            file.write(f\"{snippet}\\n\")\n",
        "        # Check if the segment contains chapter information\n",
        "        elif \"transcriptSectionHeaderRenderer\" in transcript_segment:\n",
        "            section = transcript_segment[\"transcriptSectionHeaderRenderer\"]\n",
        "            # Check if the required keys are present in the section\n",
        "            if \"startMs\" in section and \"endMs\" in section and \"accessibility\" in section:\n",
        "                start = float(section[\"startMs\"]) / 1000.\n",
        "                end = float(section[\"endMs\"]) / 1000.\n",
        "                label = section[\"accessibility\"][\"accessibilityData\"][\"label\"]\n",
        "                # Write the label along with the formatted start and end times to the file\n",
        "                file.write(\"\\n\")\n",
        "                file.write(f\"## {label}\\n\")\n",
        "                file.write(f\"{timedelta(seconds=start)} - {timedelta(seconds=end)}\\n\")\n",
        "            else:\n",
        "                # Write a message if the required keys are not found in the section\n",
        "                file.write(\"Required keys not found in section\\n\")\n",
        "        else:\n",
        "            # Write a message if the segment type is unknown\n",
        "            file.write(\"Unknown segment type\\n\")"
      ]
    }
  ],
  "metadata": {
    "kernelspec": {
      "display_name": "youtube311",
      "language": "python",
      "name": "python3"
    },
    "language_info": {
      "codemirror_mode": {
        "name": "ipython",
        "version": 3
      },
      "file_extension": ".py",
      "mimetype": "text/x-python",
      "name": "python",
      "nbconvert_exporter": "python",
      "pygments_lexer": "ipython3",
      "version": "3.11.11"
    }
  },
  "nbformat": 4,
  "nbformat_minor": 2
}
