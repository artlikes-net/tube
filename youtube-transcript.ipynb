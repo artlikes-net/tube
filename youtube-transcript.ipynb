{
 "cells": [
  {
   "cell_type": "code",
   "execution_count": null,
   "metadata": {},
   "outputs": [],
   "source": [
    "\"\"\"\n",
    "%pip install python-dotenv\n",
    "%pip google-api-python-client\n",
    "\"\"\""
   ]
  },
  {
   "cell_type": "code",
   "execution_count": 12,
   "metadata": {},
   "outputs": [
    {
     "name": "stdout",
     "output_type": "stream",
     "text": [
      "Biomolecules (Updated 2023) by Amoeba Sisters was published in 2023\n"
     ]
    }
   ],
   "source": [
    "import os\n",
    "from dotenv import load_dotenv\n",
    "from googleapiclient.discovery import build\n",
    "\n",
    "# Load environment variables from a .env file\n",
    "load_dotenv()\n",
    "\n",
    "# Get the YouTube API developer key from the environment variables\n",
    "DEVELOPER_KEY = os.getenv('DEVELOPER_KEY')\n",
    "\n",
    "# Build the YouTube service object\n",
    "youtube = build('youtube', 'v3', developerKey=DEVELOPER_KEY)\n",
    "\n",
    "def get_video_title(video_url):\n",
    "    # Extract the video ID from the URL\n",
    "    video_id = video_url.split('v=')[-1]\n",
    "    \n",
    "    # Create a request to get the video details\n",
    "    request = youtube.videos().list(part='snippet', id=video_id)\n",
    "    \n",
    "    # Execute the request and get the response\n",
    "    response = request.execute()\n",
    "    \n",
    "    # Extract the video title from the response\n",
    "    title = response['items'][0]['snippet']['title']\n",
    "    # Extract the video channel title\n",
    "    channel_title = response['items'][0]['snippet']['channelTitle']\n",
    "    # Extract the video published date\n",
    "    published_date = response['items'][0]['snippet']['publishedAt']\n",
    "    \n",
    "    return title, channel_title, published_date\n",
    "\n",
    "# Example video URL\n",
    "video_url = \"https://www.youtube.com/watch?v=1Dx7LDwINLU\"\n",
    "\n",
    "# Print the video context\n",
    "video_context = get_video_title(video_url)\n",
    "video_title = video_context[0]\n",
    "video_channel = video_context[1]\n",
    "video_published = video_context[2]\n",
    "video_datePublished = video_published.split('T')[0]\n",
    "video_yearPublished = video_datePublished.split('-')[0]\n",
    "\n",
    "print(f\"{video_title} by {video_channel} was published in {video_yearPublished}\")"
   ]
  },
  {
   "cell_type": "code",
   "execution_count": 6,
   "metadata": {},
   "outputs": [
    {
     "name": "stdout",
     "output_type": "stream",
     "text": [
      "2023-07-31\n"
     ]
    }
   ],
   "source": [
    "def create_filename(video_title, video_channel, video_pubDate):\n",
    "    # Replace spaces with underscores\n",
    "    filename_title = video_title.replace(' ', '_')\n",
    "    filename_channel = video_channel.replace(' ', '_')\n",
    "    filename_pubDate = video_pubDate.replace(' ', '_')\n",
    "    \n",
    "    # Concatenate the video title, channel, and published date\n",
    "    filename = f'{filename_title}_{filename_channel}_{filename_pubDate}.mp4'\n",
    "    \n",
    "    return filename\n",
    "\n",
    "video_pubDate = video_published.split('T')[0]\n",
    "print(video_pubDate)"
   ]
  }
 ],
 "metadata": {
  "kernelspec": {
   "display_name": "youtube311",
   "language": "python",
   "name": "python3"
  },
  "language_info": {
   "codemirror_mode": {
    "name": "ipython",
    "version": 3
   },
   "file_extension": ".py",
   "mimetype": "text/x-python",
   "name": "python",
   "nbconvert_exporter": "python",
   "pygments_lexer": "ipython3",
   "version": "3.11.11"
  }
 },
 "nbformat": 4,
 "nbformat_minor": 2
}
