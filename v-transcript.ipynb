{
 "cells": [
  {
   "cell_type": "code",
   "execution_count": 6,
   "metadata": {},
   "outputs": [],
   "source": [
    "video_list_filename = 'videos_data/5760-L01-video_details.json'"
   ]
  },
  {
   "cell_type": "code",
   "execution_count": 7,
   "metadata": {},
   "outputs": [],
   "source": [
    "# Import the json module to work with JSON data\n",
    "import json\n",
    "\n",
    "# Initialize an empty list to store video IDs\n",
    "video_ids = []\n",
    "\n",
    "# Open the JSON file containing the video list\n",
    "with open(video_list_filename) as f:\n",
    "    # Load the JSON data from the file\n",
    "    video_list = json.load(f)\n",
    "    \n",
    "    # Loop through each video in the video list\n",
    "    for video in video_list:\n",
    "        # Loop through each item in the video's items\n",
    "        for item in video['items']:\n",
    "            # Append the video ID to the list of video IDs\n",
    "            video_ids.append(item['id'])\n"
   ]
  },
  {
   "cell_type": "code",
   "execution_count": 9,
   "metadata": {},
   "outputs": [],
   "source": [
    "from youtube_transcript_api import YouTubeTranscriptApi\n",
    "from youtube_transcript_api._errors import TranscriptsDisabled, NoTranscriptFound\n",
    "\n",
    "def check_transcript_availability(video_id):\n",
    "    try:\n",
    "        transcript_list = YouTubeTranscriptApi.list_transcripts(video_id)\n",
    "        return True\n",
    "    except (TranscriptsDisabled, NoTranscriptFound):\n",
    "        return False\n"
   ]
  },
  {
   "cell_type": "code",
   "execution_count": 10,
   "metadata": {},
   "outputs": [
    {
     "name": "stdout",
     "output_type": "stream",
     "text": [
      "Transcripts are available for video ID: zbFHYjaqjzw\n",
      "Transcripts are available for video ID: sjV7NNwm1GU\n",
      "Transcripts are available for video ID: -Xj7zDwwU_I\n",
      "Transcripts are available for video ID: eKN22NFl58U\n",
      "Transcripts are available for video ID: sM-VI3alvAI\n",
      "Transcripts are available for video ID: QLT1vrnJXWI\n",
      "Transcripts are available for video ID: dhRIHF1DENI\n",
      "Transcripts are available for video ID: rphiCdR68TE\n",
      "Transcripts are available for video ID: z7aqJpKfPC0\n",
      "Transcripts are available for video ID: SXmVnHgwOZs\n"
     ]
    }
   ],
   "source": [
    "for videos in video_ids:\n",
    "    transcript_available = check_transcript_availability(videos)\n",
    "    if transcript_available:\n",
    "        print(f\"Transcripts are available for video ID: {videos}\")\n",
    "    else:\n",
    "        print(f\"No transcripts found for video ID: {videos}\")"
   ]
  },
  {
   "cell_type": "code",
   "execution_count": 15,
   "metadata": {},
   "outputs": [],
   "source": [
    "from youtube_transcript_api import YouTubeTranscriptApi\n",
    "from youtube_transcript_api.formatters import JSONFormatter\n",
    "\n",
    "# Must be a single transcript.\n",
    "transcript = YouTubeTranscriptApi.get_transcript(video_ids[1])\n",
    "\n",
    "formatter = JSONFormatter()\n",
    "\n",
    "# .format_transcript(transcript) turns the transcript into a JSON string.\n",
    "json_formatted = formatter.format_transcript(transcript)\n",
    "\n",
    "\n",
    "# Now we can write it out to a file.\n",
    "with open('your_filename.json', 'w', encoding='utf-8') as json_file:\n",
    "    json_file.write(json_formatted)\n",
    "\n",
    "# Now should have a new JSON file that you can easily read back into Python."
   ]
  }
 ],
 "metadata": {
  "kernelspec": {
   "display_name": "video311",
   "language": "python",
   "name": "python3"
  },
  "language_info": {
   "codemirror_mode": {
    "name": "ipython",
    "version": 3
   },
   "file_extension": ".py",
   "mimetype": "text/x-python",
   "name": "python",
   "nbconvert_exporter": "python",
   "pygments_lexer": "ipython3",
   "version": "3.11.11"
  }
 },
 "nbformat": 4,
 "nbformat_minor": 2
}
