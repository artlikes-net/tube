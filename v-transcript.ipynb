{
 "cells": [
  {
   "cell_type": "code",
   "execution_count": 2,
   "metadata": {},
   "outputs": [],
   "source": [
    "video_list_f = 'videos_data/5760-L01-video_details.json'"
   ]
  },
  {
   "cell_type": "code",
   "execution_count": 3,
   "metadata": {},
   "outputs": [],
   "source": [
    "# Import the json module to work with JSON data\n",
    "import json\n",
    "\n",
    "# Initialize an empty list to store video IDs\n",
    "video_ids = []\n",
    "\n",
    "# Open the JSON file containing the video list\n",
    "with open(video_list_f) as f:\n",
    "    # Load the JSON data from the file\n",
    "    video_list = json.load(f)\n",
    "    \n",
    "    # Loop through each video in the video list\n",
    "    for video in video_list:\n",
    "        # Loop through each item in the video's items\n",
    "        for item in video['items']:\n",
    "            # Append the video ID to the list of video IDs\n",
    "            video_ids.append(item['id'])\n"
   ]
  },
  {
   "cell_type": "code",
   "execution_count": 4,
   "metadata": {},
   "outputs": [],
   "source": [
    "from youtube_transcript_api import YouTubeTranscriptApi\n",
    "from youtube_transcript_api._errors import TranscriptsDisabled, NoTranscriptFound\n",
    "\n",
    "def check_transcript_availability(video_id):\n",
    "    try:\n",
    "        transcript_list = YouTubeTranscriptApi.list_transcripts(video_id)\n",
    "        return True\n",
    "    except (TranscriptsDisabled, NoTranscriptFound):\n",
    "        return False\n"
   ]
  },
  {
   "cell_type": "code",
   "execution_count": 5,
   "metadata": {},
   "outputs": [
    {
     "name": "stdout",
     "output_type": "stream",
     "text": [
      "Transcripts are available for video ID: zbFHYjaqjzw\n",
      "Transcripts are available for video ID: sjV7NNwm1GU\n",
      "Transcripts are available for video ID: -Xj7zDwwU_I\n",
      "Transcripts are available for video ID: eKN22NFl58U\n",
      "Transcripts are available for video ID: sM-VI3alvAI\n",
      "Transcripts are available for video ID: QLT1vrnJXWI\n",
      "Transcripts are available for video ID: dhRIHF1DENI\n",
      "Transcripts are available for video ID: rphiCdR68TE\n",
      "Transcripts are available for video ID: z7aqJpKfPC0\n",
      "Transcripts are available for video ID: SXmVnHgwOZs\n"
     ]
    }
   ],
   "source": [
    "for videos in video_ids:\n",
    "    transcript_available = check_transcript_availability(videos)\n",
    "    if transcript_available:\n",
    "        print(f\"Transcripts are available for video ID: {videos}\")\n",
    "    else:\n",
    "        print(f\"No transcripts found for video ID: {videos}\")"
   ]
  },
  {
   "cell_type": "code",
   "execution_count": 17,
   "metadata": {},
   "outputs": [],
   "source": [
    "from youtube_transcript_api import YouTubeTranscriptApi\n",
    "from youtube_transcript_api.formatters import JSONFormatter\n",
    "\n",
    "video_id = video_ids[1]\n",
    "\n",
    "# Must be a single transcript.\n",
    "transcript = YouTubeTranscriptApi.get_transcript(video_id)\n",
    "\n",
    "formatter = JSONFormatter()\n",
    "\n",
    "# .format_transcript(transcript) turns the transcript into a JSON string.\n",
    "json_formatted = formatter.format_transcript(transcript)\n",
    "\n",
    "\n",
    "# Use the video ID as the filename.\n",
    "filename = f'{video_id}.json'\n",
    "\n",
    "# Now we can write it out to a file.\n",
    "with open('outputs/transcripts/' + filename, 'w', encoding='utf-8') as json_file:\n",
    "    json_file.write(json_formatted)\n",
    "\n",
    "# Now should have a new JSON file that you can easily read back into Python."
   ]
  },
  {
   "cell_type": "code",
   "execution_count": 2,
   "metadata": {},
   "outputs": [
    {
     "name": "stdout",
     "output_type": "stream",
     "text": [
      "Chapters for video: Bio Nano Technology-New Frontiers in Molecular Engineering: Andreas Mershin at TEDxAthens\n",
      "1. Introduction (starts at 0 seconds)\n"
     ]
    }
   ],
   "source": [
    "import os\n",
    "from dotenv import load_dotenv\n",
    "from youtube_transcript_api import YouTubeTranscriptApi\n",
    "from googleapiclient.discovery import build\n",
    "\n",
    "# Set up YouTube API client\n",
    "load_dotenv()\n",
    "api_key = os.getenv('googleKey')\n",
    "youtube = build(\"youtube\", \"v3\", developerKey=api_key)\n",
    "\n",
    "# Extract video ID from URL\n",
    "video_id = \"sjV7NNwm1GU\"\n",
    "\n",
    "# Fetch video details\n",
    "video_response = youtube.videos().list(\n",
    "    part=\"snippet\",\n",
    "    id=video_id\n",
    ").execute()\n",
    "\n",
    "# Get video title\n",
    "video_title = video_response[\"items\"][0][\"snippet\"][\"title\"]\n",
    "\n",
    "# Fetch transcript\n",
    "transcript = YouTubeTranscriptApi.get_transcript(video_id)\n",
    "\n",
    "# Extract chapters\n",
    "chapters = []\n",
    "current_chapter = {\"start\": 0, \"title\": \"Introduction\"}\n",
    "\n",
    "for entry in transcript:\n",
    "    if \"{ts:\" in entry[\"text\"]:\n",
    "        timestamp = int(entry[\"text\"].split(\"{ts:\")[1].split(\"}\")[0])\n",
    "        if timestamp > current_chapter[\"start\"]:\n",
    "            chapters.append(current_chapter)\n",
    "            current_chapter = {\"start\": timestamp, \"title\": entry[\"text\"].split(\"}\")[-1].strip()}\n",
    "\n",
    "# Add the last chapter\n",
    "chapters.append(current_chapter)\n",
    "\n",
    "# Print chapters\n",
    "print(f\"Chapters for video: {video_title}\")\n",
    "for i, chapter in enumerate(chapters, 1):\n",
    "    print(f\"{i}. {chapter['title']} (starts at {chapter['start']} seconds)\")\n"
   ]
  }
 ],
 "metadata": {
  "kernelspec": {
   "display_name": "video311",
   "language": "python",
   "name": "python3"
  },
  "language_info": {
   "codemirror_mode": {
    "name": "ipython",
    "version": 3
   },
   "file_extension": ".py",
   "mimetype": "text/x-python",
   "name": "python",
   "nbconvert_exporter": "python",
   "pygments_lexer": "ipython3",
   "version": "3.11.11"
  }
 },
 "nbformat": 4,
 "nbformat_minor": 2
}
