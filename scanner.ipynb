{
 "cells": [
  {
   "cell_type": "code",
   "execution_count": 7,
   "metadata": {},
   "outputs": [],
   "source": [
    "import os\n",
    "from dotenv import load_dotenv"
   ]
  },
  {
   "cell_type": "code",
   "execution_count": 8,
   "metadata": {},
   "outputs": [
    {
     "name": "stdout",
     "output_type": "stream",
     "text": [
      "https://www.youtube.com/watch?v=OPb-nj9-Qsc&t=1189s\n"
     ]
    }
   ],
   "source": [
    "# Load environment variables from a .env file\n",
    "load_dotenv()\n",
    "\n",
    "video_url = 'https://www.youtube.com/watch?v=OPb-nj9-Qsc&t=1189s'\n",
    "print(video_url)"
   ]
  },
  {
   "cell_type": "code",
   "execution_count": 14,
   "metadata": {},
   "outputs": [
    {
     "name": "stdout",
     "output_type": "stream",
     "text": [
      "Video ID: OPb-nj9-Qsc\n",
      "Channel Name: 亂gad - randgad\n",
      "Channel ID: UCFPAwIW39LR4JwwXFr8DhpQ\n"
     ]
    }
   ],
   "source": [
    "from googleapiclient.discovery import build\n",
    "import re\n",
    "\n",
    "# Replace with your actual API key\n",
    "googleKey = os.getenv('googleKey')\n",
    "\n",
    "# Create a YouTube API client\n",
    "youtube = build('youtube', 'v3', developerKey=googleKey)\n",
    "\n",
    "def remove_time_tag(url):\n",
    "    # Remove time tag if present\n",
    "    return re.sub(r'[&?]t=\\d+[hms]?(&?)', r'\\1', url)\n",
    "\n",
    "def get_video_info(url):\n",
    "    # Remove time tag\n",
    "    clean_url = remove_time_tag(url)\n",
    "    \n",
    "    # Extract video ID\n",
    "    video_id_match = re.search(r'(?:v=|\\/)([0-9A-Za-z_-]{11}).*', clean_url)\n",
    "    if not video_id_match:\n",
    "        return None, None\n",
    "    \n",
    "    video_id = video_id_match.group(1)\n",
    "    \n",
    "    # Get video details\n",
    "    try:\n",
    "        response = youtube.videos().list(\n",
    "            part='snippet',\n",
    "            id=video_id\n",
    "        ).execute()\n",
    "        \n",
    "        if not response['items']:\n",
    "            return None, None\n",
    "        \n",
    "        channel_id = response['items'][0]['snippet']['channelId']\n",
    "        channel_title = response['items'][0]['snippet']['channelTitle']\n",
    "        \n",
    "        return channel_title, channel_id, video_id\n",
    "    except Exception as e:\n",
    "        print(f\"An error occurred: {e}\")\n",
    "        return None, None\n",
    "\n",
    "# Example usage\n",
    "#url = \"https://www.youtube.com/watch?v=dQw4w9WgXcQ&t=1m30s\"\n",
    "channel_name, channel_id, video_id = get_video_info(video_url)\n",
    "\n",
    "if channel_name and channel_id:\n",
    "    print(f\"Video ID: {video_id}\")\n",
    "    print(f\"Channel Name: {channel_name}\")\n",
    "    print(f\"Channel ID: {channel_id}\")\n",
    "else:\n",
    "    print(\"Could not retrieve channel information.\")\n"
   ]
  },
  {
   "cell_type": "code",
   "execution_count": 19,
   "metadata": {},
   "outputs": [
    {
     "name": "stdout",
     "output_type": "stream",
     "text": [
      "response.json() has been written to response.json file\n",
      "response.json() file has been closed\n",
      "Duration: PT1H14M30S\n"
     ]
    }
   ],
   "source": [
    "import requests\n",
    "\n",
    "def get_video_duration(video_id, api_key):\n",
    "    url = f\"https://www.googleapis.com/youtube/v3/videos?id={video_id}&part=contentDetails&key={api_key}\"\n",
    "    response = requests.get(url)\n",
    "    data = response.json()\n",
    "    \n",
    "    if 'items' in data and len(data['items']) > 0:\n",
    "        duration = data['items'][0]['contentDetails']['duration']  # e.g., PT4M54S\n",
    "        \n",
    "        # write the response.json() to a json file\n",
    "        import json\n",
    "        with open('response.json', 'w') as f:\n",
    "            json.dump(data, f) # write the response.json() to a json file\n",
    "            print(f\"response.json() has been written to response.json file\")\n",
    "            f.close()\n",
    "            print(f\"response.json() file has been closed\")\n",
    "        \n",
    "        return duration\n",
    "    else:\n",
    "        return None\n",
    "\n",
    "# Example usage\n",
    "api_key = os.getenv('googleKey')\n",
    "#video_id = 'VIDEO_ID_HERE'\n",
    "duration = get_video_duration(video_id, api_key)\n",
    "print(f\"Duration: {duration}\")\n",
    "    \n",
    "\n"
   ]
  },
  {
   "cell_type": "code",
   "execution_count": 49,
   "metadata": {},
   "outputs": [],
   "source": [
    "from googleapiclient.discovery import build\n",
    "\n",
    "\n",
    "def get_channel_videos(channel_id):\n",
    "    videos = []\n",
    "    next_page_token = None\n",
    "    \n",
    "    while True:\n",
    "        # Request channel uploads playlist\n",
    "        res = youtube.channels().list(id=channel_id, \n",
    "                                      part='contentDetails').execute()\n",
    "        playlist_id = res['items'][0]['contentDetails']['relatedPlaylists']['uploads']\n",
    "        \n",
    "        # Request playlist items\n",
    "        res = youtube.playlistItems().list(playlistId=playlist_id,\n",
    "                                           part='snippet',\n",
    "                                           maxResults=50,\n",
    "                                           pageToken=next_page_token).execute()\n",
    "        \n",
    "        # Process video items\n",
    "        for item in res['items']:\n",
    "            video_id = item['snippet']['resourceId']['videoId']\n",
    "            title = item['snippet']['title']\n",
    "            publish = item['snippet']['publishedAt']\n",
    "            #publishDate = publishAt.split('T')[0]\n",
    "            \n",
    "            # Request video details to get duration\n",
    "            video_details = youtube.videos().list(id=video_id, part='contentDetails').execute()\n",
    "            duration = video_details['items'][0]['contentDetails']['duration']\n",
    "            \n",
    "            videos.append({'video_id': video_id, 'publish': publish, 'duration': duration, 'title': title})\n",
    "        \n",
    "        # Check for next page\n",
    "        next_page_token = res.get('nextPageToken')\n",
    "        if not next_page_token:\n",
    "            break\n",
    "    \n",
    "    return videos\n",
    "\n",
    "\n",
    "video_list = get_channel_videos(channel_id)\n",
    "\n",
    "\n"
   ]
  },
  {
   "cell_type": "code",
   "execution_count": 50,
   "metadata": {},
   "outputs": [
    {
     "name": "stdout",
     "output_type": "stream",
     "text": [
      "VideoID: OPb-nj9-Qsc, Channel: 亂gad - randgad, Published: 2025-01-06T05:13:00Z, Duration: PT1H14M30S, Title: 亂‌‌‌gad‌‌‌ ‌‌‌‌‌第745集 - 阿Ed 多倫多之旅 / Switch 2 / Starship IFT 7 / Deepseek v3 / AI 影片 Sora 終於有得試\n",
      "VideoID: PTBMjuWgSRA, Channel: 亂gad - randgad, Published: 2025-01-04T17:02:18Z, Duration: PT1H18M35S, Title: 亂‌‌‌gad‌‌‌ ‌‌‌‌‌第745集 - 阿Ed 多倫多之旅 / Switch 2 / Starship IFT 7 / Deepseek v3 / AI 影片 Sora 終於有得試\n",
      "VideoID: iUm0rBbHfSI, Channel: 亂gad - randgad, Published: 2024-12-28T17:32:12Z, Duration: PT53M1S, Title: 亂‌‌‌gad‌‌‌ ‌‌‌‌‌第744集 - Excel 電競 MEWC 2024 / OpenAI 轉型做盈利公司 / $19 藍牙耳機有冇伏\n"
     ]
    }
   ],
   "source": [
    "import psycopg2\n",
    "import isodate\n",
    "\n",
    "# Assuming video_list and channel_name are defined elsewhere in your code\n",
    "# Print the list of the last 3 videos\n",
    "for video in video_list[:3]:\n",
    "    print(f\"VideoID: {video['video_id']}, Channel: {channel_name}, Published: {video['publish']}, Duration: {video['duration']}, Title: {video['title']}\")\n",
    "\n",
    "# Connect to your postgres DB\n",
    "conn = psycopg2.connect(\n",
    "    dbname=\"postgres\",\n",
    "    user=\"postgres\",\n",
    "    password=\"wHy252\",\n",
    "    host=\"localhost\",\n",
    "    port=\"5432\"\n",
    ")\n",
    "\n",
    "# Open a cursor to perform database operations\n",
    "cur = conn.cursor()\n",
    "\n",
    "# Drop table if exists and create table if not exists\n",
    "cur.execute(\"\"\"\n",
    "DROP TABLE IF EXISTS videos;\n",
    "CREATE TABLE IF NOT EXISTS videos (\n",
    "    video_id VARCHAR PRIMARY KEY,\n",
    "    channel_name VARCHAR,\n",
    "    publish_at TIMESTAMP,\n",
    "    duration INTERVAL,\n",
    "    title TEXT\n",
    ")\n",
    "\"\"\")\n",
    "\n",
    "# Insert data into the table\n",
    "for video in video_list:\n",
    "    duration = isodate.parse_duration(video['duration'])\n",
    "    title = video['title'].replace('\\u200c', '')  # Remove \\u200c from title\n",
    "    cur.execute(\"\"\"\n",
    "    INSERT INTO videos (video_id, channel_name, publish_at, duration, title)\n",
    "    VALUES (%s, %s, %s, %s, %s)\n",
    "    ON CONFLICT (video_id) DO NOTHING\n",
    "    \"\"\", (video['video_id'], channel_name, video['publish'], duration, title))\n",
    "\n",
    "# Commit the transaction\n",
    "conn.commit()\n",
    "\n",
    "# Close the cursor and connection\n",
    "cur.close()\n",
    "conn.close()\n"
   ]
  },
  {
   "cell_type": "code",
   "execution_count": 53,
   "metadata": {},
   "outputs": [
    {
     "name": "stdout",
     "output_type": "stream",
     "text": [
      "('OPb-nj9-Qsc', '亂gad - randgad', datetime.datetime(2025, 1, 6, 5, 13), Decimal('75'), '亂gad 第745集 - 阿Ed 多倫多之旅 / Switch 2 / Starship IFT 7 / Deepseek v3 / AI 影片 Sora 終於有得試')\n",
      "('PTBMjuWgSRA', '亂gad - randgad', datetime.datetime(2025, 1, 4, 17, 2, 18), Decimal('79'), '亂gad 第745集 - 阿Ed 多倫多之旅 / Switch 2 / Starship IFT 7 / Deepseek v3 / AI 影片 Sora 終於有得試')\n",
      "('iUm0rBbHfSI', '亂gad - randgad', datetime.datetime(2024, 12, 28, 17, 32, 12), Decimal('53'), '亂gad 第744集 - Excel 電競 MEWC 2024 / OpenAI 轉型做盈利公司 / $19 藍牙耳機有冇伏')\n",
      "('vPs13eLXsI0', '亂gad - randgad', datetime.datetime(2024, 12, 28, 8, 40), Decimal('53'), '亂gad 第744集 ~ Excel 電競 MEWC 2024 / OpenAI 轉型做盈利公司 / HK$19 藍牙耳機有冇伏')\n",
      "('6ptd62EOPg8', '亂gad - randgad', datetime.datetime(2024, 12, 21, 17, 43), Decimal('48'), '亂gad 第743集 - Apple Broadcom AI 晶片 / TP-Link 可能被美國禁用 / Lenovo Legion Go S / OpenAI 打電話玩 AI')\n"
     ]
    }
   ],
   "source": [
    "# Connect to your postgres DB\n",
    "conn = psycopg2.connect(\n",
    "    dbname=\"postgres\",\n",
    "    user=\"postgres\",\n",
    "    password=\"wHy252\",\n",
    "    host=\"localhost\",\n",
    "    port=\"5432\"\n",
    ")\n",
    "\n",
    "# Open a cursor to perform database operations\n",
    "cur = conn.cursor()\n",
    "\n",
    "# Execute a query to fetch data from the table\n",
    "cur.execute(\"SELECT video_id, channel_name, publish_at, ROUND(EXTRACT(EPOCH FROM duration)/60) AS duration_minutes, title FROM videos LIMIT 5\")\n",
    "\n",
    "# Fetch and print the results\n",
    "rows = cur.fetchall()\n",
    "for row in rows:\n",
    "    print(row)\n",
    "\n",
    "# Close the cursor and connection\n",
    "cur.close()\n",
    "conn.close()"
   ]
  },
  {
   "cell_type": "code",
   "execution_count": null,
   "metadata": {},
   "outputs": [],
   "source": []
  }
 ],
 "metadata": {
  "kernelspec": {
   "display_name": "youtube311",
   "language": "python",
   "name": "python3"
  },
  "language_info": {
   "codemirror_mode": {
    "name": "ipython",
    "version": 3
   },
   "file_extension": ".py",
   "mimetype": "text/x-python",
   "name": "python",
   "nbconvert_exporter": "python",
   "pygments_lexer": "ipython3",
   "version": "3.11.11"
  }
 },
 "nbformat": 4,
 "nbformat_minor": 2
}
