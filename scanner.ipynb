{
 "cells": [
  {
   "cell_type": "code",
   "execution_count": 14,
   "metadata": {},
   "outputs": [],
   "source": [
    "import os\n",
    "from dotenv import load_dotenv"
   ]
  },
  {
   "cell_type": "code",
   "execution_count": 15,
   "metadata": {},
   "outputs": [
    {
     "name": "stdout",
     "output_type": "stream",
     "text": [
      "https://www.youtube.com/watch?v=5qap5aO4i9A\n"
     ]
    }
   ],
   "source": [
    "# Load environment variables from a .env file\n",
    "load_dotenv()\n",
    "\n",
    "video_url = os.getenv('video_url')\n",
    "print(video_url)"
   ]
  },
  {
   "cell_type": "code",
   "execution_count": null,
   "metadata": {},
   "outputs": [],
   "source": [
    "from googleapiclient.discovery import build\n",
    "\n",
    "# Replace with your actual API key\n",
    "API_KEY = os.getenv('DEVELOPER_KEY')\n",
    "\n",
    "# Create a YouTube API client\n",
    "youtube = build('youtube', 'v3', developerKey=API_KEY)\n",
    "\n",
    "def get_channel_videos(channel_id):\n",
    "    videos = []\n",
    "    next_page_token = None\n",
    "    \n",
    "    while True:\n",
    "        # Request channel uploads playlist\n",
    "        res = youtube.channels().list(id=channel_id, \n",
    "                                      part='contentDetails').execute()\n",
    "        playlist_id = res['items'][0]['contentDetails']['relatedPlaylists']['uploads']\n",
    "        \n",
    "        # Request playlist items\n",
    "        res = youtube.playlistItems().list(playlistId=playlist_id,\n",
    "                                           part='snippet',\n",
    "                                           maxResults=50,\n",
    "                                           pageToken=next_page_token).execute()\n",
    "        \n",
    "        # Process video items\n",
    "        for item in res['items']:\n",
    "            video_id = item['snippet']['resourceId']['videoId']\n",
    "            title = item['snippet']['title']\n",
    "            videos.append({'id': video_id, 'title': title})\n",
    "        \n",
    "        # Check for next page\n",
    "        next_page_token = res.get('nextPageToken')\n",
    "        if not next_page_token:\n",
    "            break\n",
    "    \n",
    "    return videos\n",
    "\n",
    "# Replace with the desired channel ID\n",
    "channel_id = 'UCqAEtEr0A0Eo2IVcuWBfB9g'\n",
    "\n",
    "video_list = get_channel_videos(channel_id)\n",
    "\n",
    "# Print the list of videos\n",
    "for video in video_list:\n",
    "    print(f\"Video ID: {video['id']}, Title: {video['title']}\")\n"
   ]
  }
 ],
 "metadata": {
  "kernelspec": {
   "display_name": "youtube311",
   "language": "python",
   "name": "python3"
  },
  "language_info": {
   "codemirror_mode": {
    "name": "ipython",
    "version": 3
   },
   "file_extension": ".py",
   "mimetype": "text/x-python",
   "name": "python",
   "nbconvert_exporter": "python",
   "pygments_lexer": "ipython3",
   "version": "3.11.11"
  }
 },
 "nbformat": 4,
 "nbformat_minor": 2
}
