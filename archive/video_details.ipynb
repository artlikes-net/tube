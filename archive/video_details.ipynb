{
 "cells": [
  {
   "cell_type": "code",
   "execution_count": 1,
   "metadata": {},
   "outputs": [],
   "source": [
    "import os\n",
    "from dotenv import load_dotenv\n",
    "from googleapiclient.discovery import build\n",
    "import re\n",
    "import json\n"
   ]
  },
  {
   "cell_type": "code",
   "execution_count": 2,
   "metadata": {},
   "outputs": [],
   "source": [
    "# loop through all files in the import directory\n",
    "for filename in os.listdir('import'):\n",
    "    # open the file\n",
    "    with open('import/' + filename) as file:\n",
    "        # array to store the content of the file line by line\n",
    "        content = []\n",
    "        # loop through each line in the file\n",
    "        for line in file:\n",
    "            # remove the newline character from the end of the line\n",
    "            line = line.rstrip()\n",
    "            # remove the ' \\u200b' character from the end of the line\n",
    "            line = line.replace(' \\u200b', '')\n",
    "            # add the line to the content array\n",
    "            content.append(line)\n",
    "                    "
   ]
  },
  {
   "cell_type": "code",
   "execution_count": 3,
   "metadata": {},
   "outputs": [],
   "source": [
    "load_dotenv()\n",
    "googleKey = os.getenv('googleKey')\n",
    "\n",
    "# create a youtube object\n",
    "youtube = build('youtube', 'v3', developerKey=googleKey)"
   ]
  },
  {
   "cell_type": "code",
   "execution_count": 4,
   "metadata": {},
   "outputs": [],
   "source": [
    "def remove_time_tag(url):\n",
    "    # Remove time tag if present in the URL\n",
    "    return re.sub(r'[&?]t=\\d+[hms]?(&?)', r'\\1', url)\n",
    "\n",
    "def get_video_id_from_url(url):\n",
    "    # Extract the video ID from the URL\n",
    "    return url.split('=')[1]\n",
    "\n",
    "def get_video_details(youtube, **kwargs):\n",
    "    # Get video details from YouTube API\n",
    "    results = youtube.videos().list(\n",
    "        part='snippet,contentDetails,statistics',\n",
    "        **kwargs\n",
    "    ).execute()\n",
    "    return results\n",
    "\n",
    "def get_video_snippet(youtube, video_id):\n",
    "    # Get video snippet from YouTube API\n",
    "    results = youtube.videos().list(\n",
    "        part='snippet', id=video_id\n",
    "    ).execute()\n",
    "    return results"
   ]
  },
  {
   "cell_type": "code",
   "execution_count": 6,
   "metadata": {},
   "outputs": [],
   "source": [
    "# Initialize an empty list to store video data\n",
    "video_data = []\n",
    "\n",
    "# Loop through each video URL in the content list\n",
    "for video in content:\n",
    "    # Remove any time tag from the video URL\n",
    "    video_url = remove_time_tag(video)\n",
    "    # Extract the video ID from the URL\n",
    "    video_id = get_video_id_from_url(video_url)\n",
    "    # Get video details using the YouTube API\n",
    "    video_details = get_video_details(youtube, id=video_id)\n",
    "    # Append the video details to the video_data list\n",
    "    video_data.append(video_details)\n",
    "\n",
    "# Write the video details to a JSON file\n",
    "with open('outputs/video_details.json', 'w', encoding='utf-8') as f:\n",
    "    json.dump(video_data, f, ensure_ascii=False, indent=2)\n"
   ]
  }
 ],
 "metadata": {
  "kernelspec": {
   "display_name": "utube311",
   "language": "python",
   "name": "python3"
  },
  "language_info": {
   "codemirror_mode": {
    "name": "ipython",
    "version": 3
   },
   "file_extension": ".py",
   "mimetype": "text/x-python",
   "name": "python",
   "nbconvert_exporter": "python",
   "pygments_lexer": "ipython3",
   "version": "3.11.11"
  }
 },
 "nbformat": 4,
 "nbformat_minor": 2
}
