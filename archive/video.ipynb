{
 "cells": [
  {
   "cell_type": "code",
   "execution_count": 86,
   "metadata": {},
   "outputs": [
    {
     "name": "stdout",
     "output_type": "stream",
     "text": [
      "Channels:\n",
      " - defaults\n",
      "Platform: osx-arm64\n",
      "Collecting package metadata (repodata.json): done\n",
      "Solving environment: done\n",
      "\n",
      "# All requested packages already installed.\n",
      "\n",
      "\n",
      "Note: you may need to restart the kernel to use updated packages.\n",
      "Channels:\n",
      " - defaults\n",
      "Platform: osx-arm64\n",
      "Collecting package metadata (repodata.json): done\n",
      "Solving environment: done\n",
      "\n",
      "# All requested packages already installed.\n",
      "\n",
      "\n",
      "Note: you may need to restart the kernel to use updated packages.\n",
      "Channels:\n",
      " - defaults\n",
      "Platform: osx-arm64\n",
      "Collecting package metadata (repodata.json): done\n",
      "Solving environment: done\n",
      "\n",
      "# All requested packages already installed.\n",
      "\n",
      "\n",
      "Note: you may need to restart the kernel to use updated packages.\n",
      "Requirement already satisfied: yt_dlp in /opt/anaconda3/envs/utube/lib/python3.10/site-packages (2024.12.13)\n",
      "Note: you may need to restart the kernel to use updated packages.\n"
     ]
    }
   ],
   "source": [
    "%conda install ipykernel\n",
    "%conda install requests\n",
    "%conda install beautifulsoup4\n",
    "%pip install yt_dlp"
   ]
  },
  {
   "cell_type": "code",
   "execution_count": 87,
   "metadata": {},
   "outputs": [
    {
     "name": "stdout",
     "output_type": "stream",
     "text": [
      "[youtube] Extracting URL: https://www.youtube.com/watch?v=Q0PUGvd_9u4&t=910s\n",
      "[youtube] Q0PUGvd_9u4: Downloading webpage\n",
      "[youtube] Q0PUGvd_9u4: Downloading ios player API JSON\n",
      "[youtube] Q0PUGvd_9u4: Downloading mweb player API JSON\n",
      "[youtube] Q0PUGvd_9u4: Downloading m3u8 information\n",
      "title: 科學新知 2024-12-19 Part4: 微型核能與人工智能在2024的全速發展。人類將駐軍太空。| 中文字幕 | 主持：陳志宏博士 & 台長梁錦祥\n",
      "Upload Date: 20241219\n",
      "Duration: 1080\n",
      "Channel: Science Frontier (科學新知)\n",
      "Tags: ['科學新知', '梁錦祥工作室', '梁錦祥', '台長', '陳博', '陳志宏', '科學', '科學新聞', '普及科學', '廣東話']\n"
     ]
    }
   ],
   "source": [
    "import yt_dlp\n",
    "\n",
    "url = 'https://www.youtube.com/watch?v=Q0PUGvd_9u4&t=910s'\n",
    "\n",
    "def get_youtube_video_metadata(url):\n",
    "    ydl_opts = {}\n",
    "    with yt_dlp.YoutubeDL(ydl_opts) as ydl:\n",
    "        info_dict = ydl.extract_info(url, download=False)\n",
    "        metadata = {\n",
    "            'title': info_dict.get('title', None),\n",
    "            'upload_date': info_dict.get('upload_date', None),\n",
    "            'duration': info_dict.get('duration', None),\n",
    "            'channel': info_dict.get('uploader', None),\n",
    "            'tags': info_dict.get('tags', [])\n",
    "        }\n",
    "    return metadata\n",
    "\n",
    "metadata_dict = get_youtube_video_metadata(url)\n",
    "title = metadata_dict['title']\n",
    "upload_date = metadata_dict['upload_date']\n",
    "duration = metadata_dict['duration']\n",
    "channel = metadata_dict['channel']\n",
    "Tags = metadata_dict['tags']\n",
    "\n",
    "print(f\"title: {title}\\nUpload Date: {upload_date}\\nDuration: {duration}\\nChannel: {channel}\\nTags: {Tags}\")"
   ]
  },
  {
   "cell_type": "code",
   "execution_count": 88,
   "metadata": {},
   "outputs": [],
   "source": [
    "tags_to_hide = ['科學新知', '中文字幕']"
   ]
  },
  {
   "cell_type": "code",
   "execution_count": 90,
   "metadata": {
    "vscode": {
     "languageId": "ruby"
    }
   },
   "outputs": [
    {
     "name": "stdout",
     "output_type": "stream",
     "text": [
      "Highlighted Title with Tag Duplicates: [科學新知] 2024-12-19 Part4: 微型核能與人工智能在2024的全速發展。人類將駐軍太空。| [中文字幕] | 主持：陳志宏博士 & 台長梁錦祥\n",
      "File Name: 2024-12-19-Part4_微型核能與人工智能在2024的全速發展-人類將駐軍太空_陳志宏博士-台長梁錦祥\n"
     ]
    }
   ],
   "source": [
    "import re\n",
    "\n",
    "def highlight_tag_duplicates(title, tags_to_hide):\n",
    "    highlighted_title = title\n",
    "    for tag in tags_to_hide:\n",
    "        highlighted_title = re.sub(rf'\\b{tag}\\b', f'[{tag}]', highlighted_title)\n",
    "    return highlighted_title\n",
    "\n",
    "highlighted_title_with_tag_duplicates = highlight_tag_duplicates(title, tags_to_hide)\n",
    "print(f\"Highlighted Title with Tag Duplicates: {highlighted_title_with_tag_duplicates}\")\n",
    "\n",
    "def remove_tags_from_title(title, tags_to_hide):\n",
    "    for tag in tags_to_hide:\n",
    "        title = re.sub(rf'\\b{tag}\\b', '', title)\n",
    "    # Remove extra spaces and special characters left after tag removal\n",
    "    #title = re.sub(r'\\s+', ' ', title).strip()\n",
    "    #title = re.sub(r'\\s*[\\|:]\\s*', ' ', title).strip()\n",
    "    #title = re.sub(r'\\[。|]', '_', title).strip()\n",
    "    title = re.sub(r'\\|', '', title).strip()\n",
    "    title = re.sub(r' \\& ', '-', title).strip()\n",
    "    title = re.sub(r'主持：', '_', title).strip()\n",
    "    title = re.sub(r': ', '_', title).strip()\n",
    "    title = re.sub(r'。   ', '', title).strip()\n",
    "    title = re.sub(r'。', '-', title).strip()\n",
    "    title = re.sub(r' ', '-', title).strip()\n",
    "\n",
    "    return title\n",
    "\n",
    "raw_name = remove_tags_from_title(title, tags_to_hide)\n",
    "print(f\"File Name: {raw_name}\")\n",
    "\n",
    "# raw_name = re.sub(r'\\s+', '_', raw_name)\n",
    "# file_name = re.sub(r'\\s+', '_', raw_name)\n",
    "# print(f\"File Name with Underscores: {file_name}\")\n"
   ]
  }
 ],
 "metadata": {
  "kernelspec": {
   "display_name": "utube",
   "language": "python",
   "name": "python3"
  },
  "language_info": {
   "codemirror_mode": {
    "name": "ipython",
    "version": 3
   },
   "file_extension": ".py",
   "mimetype": "text/x-python",
   "name": "python",
   "nbconvert_exporter": "python",
   "pygments_lexer": "ipython3",
   "version": "3.10.16"
  }
 },
 "nbformat": 4,
 "nbformat_minor": 2
}
