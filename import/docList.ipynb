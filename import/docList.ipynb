{
 "cells": [
  {
   "cell_type": "code",
   "execution_count": 13,
   "metadata": {},
   "outputs": [],
   "source": [
    "import os\n",
    "\n",
    "import_path = os.path.join(os.getcwd(), 'import')\n",
    "\n",
    "# list out files in import directory\n",
    "files = os.listdir(import_path)\n",
    "\n",
    "# loop through files\n",
    "video_urls = []\n",
    "for file in files:\n",
    "    # open each file\n",
    "    with open(os.path.join(import_path, file), 'r') as f:\n",
    "        # read each line of f\n",
    "        for line in f:\n",
    "            # check if line is a youtube video url\n",
    "            if line.startswith('https://www.youtube.com/watch?'):\n",
    "                video_url = line[:43]\n",
    "                # append video_url to a new list\n",
    "                \n",
    "                video_urls.append(video_url)\n",
    "            else:\n",
    "                print('Invalid URL: ' + line)\n"
   ]
  },
  {
   "cell_type": "code",
   "execution_count": 14,
   "metadata": {},
   "outputs": [
    {
     "name": "stdout",
     "output_type": "stream",
     "text": [
      "['https://www.youtube.com/watch?v=zbFHYjaqjzw', 'https://www.youtube.com/watch?v=sjV7NNwm1GU', 'https://www.youtube.com/watch?v=-Xj7zDwwU_I', 'https://www.youtube.com/watch?v=eKN22NFl58U', 'https://www.youtube.com/watch?v=sM-VI3alvAI', 'https://www.youtube.com/watch?v=QLT1vrnJXWI', 'https://www.youtube.com/watch?v=dhRIHF1DENI', 'https://www.youtube.com/watch?v=rphiCdR68TE', 'https://www.youtube.com/watch?v=z7aqJpKfPC0', 'https://www.youtube.com/watch?v=SXmVnHgwOZs']\n"
     ]
    }
   ],
   "source": [
    "print(video_urls)"
   ]
  },
  {
   "cell_type": "code",
   "execution_count": null,
   "metadata": {},
   "outputs": [],
   "source": [
    "ERROR: pip's dependency resolver does not currently take into account all the packages that are installed. This behaviour is the source of the following dependency conflicts.\n",
    "huggingface-hub 0.26.2 requires fsspec>=2023.5.0, which is not installed.\n",
    "huggingface-hub 0.26.2 requires pyyaml>=5.1, which is not installed.\n",
    "gradio 5.6.0 requires anyio<5.0,>=3.0, which is not installed.\n",
    "gradio 5.6.0 requires httpx>=0.24.1, which is not installed.\n",
    "gradio 5.6.0 requires jinja2<4.0, which is not installed.\n",
    "gradio 5.6.0 requires markupsafe~=2.0, which is not installed.\n",
    "gradio 5.6.0 requires numpy<3.0,>=1.0, which is not installed.\n",
    "gradio 5.6.0 requires pyyaml<7.0,>=5.0, which is not installed."
   ]
  }
 ],
 "metadata": {
  "kernelspec": {
   "display_name": "yt311",
   "language": "python",
   "name": "python3"
  },
  "language_info": {
   "codemirror_mode": {
    "name": "ipython",
    "version": 3
   },
   "file_extension": ".py",
   "mimetype": "text/x-python",
   "name": "python",
   "nbconvert_exporter": "python",
   "pygments_lexer": "ipython3",
   "version": "3.11.11"
  }
 },
 "nbformat": 4,
 "nbformat_minor": 2
}
