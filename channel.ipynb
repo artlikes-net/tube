{
 "cells": [
  {
   "cell_type": "code",
   "execution_count": null,
   "metadata": {},
   "outputs": [],
   "source": [
    "# %conda install ipykernel\n",
    "# %conda install requests\n",
    "# %conda install beautifulsoup4\n",
    "# %pip install yt_dlp"
   ]
  },
  {
   "cell_type": "code",
   "execution_count": 5,
   "metadata": {},
   "outputs": [
    {
     "name": "stdout",
     "output_type": "stream",
     "text": [
      "1. 科學新知 2024-12-19 科學回憶錄: 回顧Google Willow量子運算與多重宇宙學說的淵源。| 中文字幕 | 主持：陳志宏博士 & 台長梁錦祥 (YBZj6F0qzlc)\n",
      "2. 科學新知 2024-12-19 Part4: 微型核能與人工智能在2024的全速發展。人類將駐軍太空。| 中文字幕 | 主持：陳志宏博士 & 台長梁錦祥 (Q0PUGvd_9u4)\n",
      "3. 科學新知 2024-12-19 Part3: JWST望遠鏡揭示前所未見的早期宇宙，真的有“原初黑洞”？。SpaceX第七次試射在即。| 中文字幕 | 主持：陳志宏博士 & 台長梁錦祥 (r1HinfedcF8)\n",
      "4. 科學新知 2024-12-19 Part2: CAR T-cell免疫療法成真。RNA農藥面世。| 中文字幕 | 主持：陳志宏博士 & 台長梁錦祥 (SZhBFElGIMo)\n",
      "5. 科學新知 2024-12-19 Part1: 2024科學大事回顧 - 愛滋病預防疫苗面世。| 中文字幕 | 主持：陳志宏博士 & 台長梁錦祥 (3l_QJOiZDfY)\n",
      "6. 軍工開物 2024-12-17 無人機隱形技術大鬥法 美國MQ-9與中國聲稱的隱形斗篷技術虛實如何？ | 主持：陳博 Larry (yYIDBmyKRww)\n",
      "7. 科學新知 2024-12-11 科學回憶錄: 世上最嚴重化工意外，博帕爾農藥廠毒氣洩漏40週年。| 主持：陳志宏博士 & 台長梁錦祥 (TJ0FO_cQhPc)\n",
      "8. 科學新知 2024-12-11 Part4: openAI會講大話以避免被關機。蟹與龍蝦原來也會痛。| 主持：陳志宏博士 & 台長梁錦祥 (0S_ORJ7XMZA)\n",
      "9. 科學新知 2024-12-11 Part3: 小行星帶研究的新革命，我們將能夠觀測小行星帶的小石頭。| 主持：陳志宏博士 & 台長梁錦祥 (jSwvZEHx-N4)\n",
      "10. 科學新知 2024-12-11 Part2: Google Willow最新量子運算晶片力量大增，有何獨特優勢？| 主持：陳志宏博士 & 台長梁錦祥 (m09NJT7i6j8)\n"
     ]
    }
   ],
   "source": [
    "import yt_dlp\n",
    "\n",
    "# URL of the YouTube channel's videos page\n",
    "channel_url = 'https://www.youtube.com/@sciencefrontier852/videos'\n",
    "\n",
    "# Options for yt_dlp\n",
    "ydl_opts = {\n",
    "    'extract_flat': True,  # Extract metadata without downloading videos\n",
    "    'playlistend': 10,     # Limit extraction to the first 10 videos\n",
    "    'quiet': True          # Suppress output for a quieter run\n",
    "}\n",
    "\n",
    "# Create a YoutubeDL object with the specified options\n",
    "with yt_dlp.YoutubeDL(ydl_opts) as ydl:\n",
    "    # Extract information from the channel URL\n",
    "    result = ydl.extract_info(channel_url, download=False)\n",
    "    \n",
    "    # Check if the result contains video entries\n",
    "    if 'entries' in result:\n",
    "        videos = result['entries']\n",
    "        \n",
    "        # Iterate over the videos and print their titles and IDs\n",
    "        for i, video in enumerate(videos, start=1):\n",
    "            print(f\"{i}. {video['title']} ({video['id']})\")"
   ]
  },
  {
   "cell_type": "code",
   "execution_count": 88,
   "metadata": {},
   "outputs": [],
   "source": [
    "tags_to_hide = ['科學新知', '中文字幕']"
   ]
  },
  {
   "cell_type": "code",
   "execution_count": null,
   "metadata": {
    "vscode": {
     "languageId": "ruby"
    }
   },
   "outputs": [],
   "source": [
    "import re\n",
    "\n",
    "def highlight_tag_duplicates(title, tags_to_hide):\n",
    "    highlighted_title = title\n",
    "    for tag in tags_to_hide:\n",
    "        highlighted_title = re.sub(rf'\\b{tag}\\b', f'[{tag}]', highlighted_title)\n",
    "    return highlighted_title\n",
    "\n",
    "highlighted_title_with_tag_duplicates = highlight_tag_duplicates(title, tags_to_hide)\n",
    "print(f\"Highlighted Title with Tag Duplicates: {highlighted_title_with_tag_duplicates}\")\n",
    "\n",
    "def remove_tags_from_title(title, tags_to_hide):\n",
    "    for tag in tags_to_hide:\n",
    "        title = re.sub(rf'\\b{tag}\\b', '', title)\n",
    "    # Remove extra spaces and special characters left after tag removal\n",
    "    #title = re.sub(r'\\s+', ' ', title).strip()\n",
    "    #title = re.sub(r'\\s*[\\|:]\\s*', ' ', title).strip()\n",
    "    #title = re.sub(r'\\[。|]', '_', title).strip()\n",
    "    title = re.sub(r'\\|', '', title).strip()\n",
    "    title = re.sub(r' \\& ', '-', title).strip()\n",
    "    title = re.sub(r'主持：', '_', title).strip()\n",
    "    title = re.sub(r': ', '_', title).strip()\n",
    "    title = re.sub(r'。   ', '', title).strip()\n",
    "    title = re.sub(r'。', '-', title).strip()\n",
    "    title = re.sub(r' ', '-', title).strip()\n",
    "\n",
    "    return title\n",
    "\n",
    "raw_name = remove_tags_from_title(title, tags_to_hide)\n",
    "print(f\"File Name: {raw_name}\")\n",
    "\n",
    "# raw_name = re.sub(r'\\s+', '_', raw_name)\n",
    "# file_name = re.sub(r'\\s+', '_', raw_name)\n",
    "# print(f\"File Name with Underscores: {file_name}\")\n"
   ]
  }
 ],
 "metadata": {
  "kernelspec": {
   "display_name": "utube",
   "language": "python",
   "name": "python3"
  },
  "language_info": {
   "codemirror_mode": {
    "name": "ipython",
    "version": 3
   },
   "file_extension": ".py",
   "mimetype": "text/x-python",
   "name": "python",
   "nbconvert_exporter": "python",
   "pygments_lexer": "ipython3",
   "version": "3.10.16"
  }
 },
 "nbformat": 4,
 "nbformat_minor": 2
}
