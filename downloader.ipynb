{
 "cells": [
  {
   "cell_type": "code",
   "execution_count": 1,
   "metadata": {},
   "outputs": [
    {
     "name": "stderr",
     "output_type": "stream",
     "text": [
      "Downloading 'Robotics and Automation Tutorial Solutions': 100%|██████████| 14/14 [00:50<00:00,  3.60s/it]"
     ]
    },
    {
     "name": "stdout",
     "output_type": "stream",
     "text": [
      "Failed to download Robotics and Automation Assignment/Project: [Errno 2] No such file or directory: '/Users/hochiyau/dev/youtube/playlists/Robotics and Automation Tutorial Solutions/video_Robotics and Automation Assignment/Project.mp4'\n"
     ]
    },
    {
     "name": "stderr",
     "output_type": "stream",
     "text": [
      "\n"
     ]
    }
   ],
   "source": [
    "import os\n",
    "import re\n",
    "from pytubefix import Playlist, YouTube\n",
    "from tqdm import tqdm\n",
    "\n",
    "def sanitize_filename(name):\n",
    "    \"\"\"Remove invalid filename characters\"\"\"\n",
    "    return re.sub(r'[\\\\/*?:\"<>|]', \"\", name)\n",
    "\n",
    "def download_playlist(playlist_url, resolution=\"1080p\", output_dir=\"playlists\"):\n",
    "    playlist = Playlist(playlist_url)\n",
    "    playlist_title = sanitize_filename(playlist.title)\n",
    "    output_path = os.path.join(output_dir, playlist_title)\n",
    "    \n",
    "    os.makedirs(output_path, exist_ok=True)\n",
    "    \n",
    "    for video in tqdm(playlist.videos, desc=f\"Downloading '{playlist_title}'\"):\n",
    "        try:\n",
    "            yt = YouTube(video.watch_url)\n",
    "            base_filename = sanitize_filename(f\"{yt.title}.mp4\")\n",
    "            final_path = os.path.join(output_path, base_filename)\n",
    "            \n",
    "            if os.path.exists(final_path):\n",
    "                tqdm.write(f\"Skipping existing: {base_filename}\")\n",
    "                continue\n",
    "                \n",
    "            # Select video stream\n",
    "            video_stream = yt.streams.filter(res=resolution, mime_type=\"video/mp4\").first()\n",
    "            if not video_stream:\n",
    "                video_stream = yt.streams.get_highest_resolution()\n",
    "                \n",
    "            # Select audio stream\n",
    "            audio_stream = yt.streams.get_audio_only()\n",
    "            \n",
    "            # Download components\n",
    "            video_path = video_stream.download(output_path=output_path, filename_prefix=\"video_\")\n",
    "            audio_path = audio_stream.download(output_path=output_path, filename_prefix=\"audio_\")\n",
    "            \n",
    "            # Merge streams\n",
    "            os.system(f\"ffmpeg -y -i '{video_path}' -i '{audio_path}' -c:v copy -c:a aac '{final_path}' -loglevel error\")\n",
    "            \n",
    "            # Cleanup temp files\n",
    "            os.remove(video_path)\n",
    "            os.remove(audio_path)\n",
    "            \n",
    "        except Exception as e:\n",
    "            tqdm.write(f\"Failed to download {video.title}: {str(e)}\")\n",
    "\n",
    "if __name__ == \"__main__\":\n",
    "    #playlist_url = input(\"Enter YouTube Playlist URL: \")\n",
    "    playlist_url = \"https://youtube.com/playlist?list=PLvvHybQvq9efppZ31vapIksnYcSODIwFt&si=P50Hg-sUhGxTYUSy\"\n",
    "    download_playlist(playlist_url)\n"
   ]
  }
 ],
 "metadata": {
  "kernelspec": {
   "display_name": "yt311",
   "language": "python",
   "name": "python3"
  },
  "language_info": {
   "codemirror_mode": {
    "name": "ipython",
    "version": 3
   },
   "file_extension": ".py",
   "mimetype": "text/x-python",
   "name": "python",
   "nbconvert_exporter": "python",
   "pygments_lexer": "ipython3",
   "version": "3.11.11"
  }
 },
 "nbformat": 4,
 "nbformat_minor": 2
}
