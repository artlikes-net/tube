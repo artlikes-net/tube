{
 "cells": [
  {
   "cell_type": "code",
   "execution_count": null,
   "metadata": {},
   "outputs": [
    {
     "name": "stdout",
     "output_type": "stream",
     "text": [
      "0:00:00 Intro\n",
      "0:00:46 Monomer Definition\n",
      "0:01:04 Carbohydrates\n",
      "0:02:45 Lipids\n",
      "0:04:24 Proteins\n",
      "0:05:37 Nucleic Acids\n",
      "0:06:38 Biomolecule Structure\n"
     ]
    }
   ],
   "source": [
    "from pytube import YouTube\n",
    "from innertube import InnerTube\n",
    "from datetime import timedelta\n",
    "\n",
    "\n",
    "def extract_transcript_params(next_data):\n",
    "    engagement_panels = next_data[\"engagementPanels\"]\n",
    "\n",
    "    for engagement_panel in engagement_panels:\n",
    "        engagement_panel_section = engagement_panel[\n",
    "            \"engagementPanelSectionListRenderer\"\n",
    "        ]\n",
    "\n",
    "        if (\n",
    "            engagement_panel_section.get(\"panelIdentifier\")\n",
    "            != \"engagement-panel-searchable-transcript\"\n",
    "        ):\n",
    "            continue\n",
    "\n",
    "        return engagement_panel_section[\"content\"][\"continuationItemRenderer\"][\n",
    "            \"continuationEndpoint\"\n",
    "        ][\"getTranscriptEndpoint\"][\"params\"]\n",
    "\n",
    "\n",
    "def get_chapters(transcript):\n",
    "    segments = transcript[\"actions\"][0][\n",
    "        \"updateEngagementPanelAction\"][\"content\"][\n",
    "        \"transcriptRenderer\"][\"content\"][\n",
    "        \"transcriptSearchPanelRenderer\"][\"body\"][\n",
    "        \"transcriptSegmentListRenderer\"][\"initialSegments\"]\n",
    "    \n",
    "    chapters = []\n",
    "    for segment in segments:\n",
    "        if segment.get(\"transcriptSectionHeaderRenderer\"):\n",
    "            section = segment[\"transcriptSectionHeaderRenderer\"]\n",
    "            chapters.append(dict(\n",
    "                    start=float(section[\"startMs\"]) / 1000.,\n",
    "                    end=float(section[\"endMs\"]) / 1000.,\n",
    "                    label=section[\"accessibility\"][\"accessibilityData\"][\"label\"]\n",
    "            ))\n",
    "    return chapters \n",
    "\n",
    "yt = YouTube(\"https://www.youtube.com/watch?v=1Dx7LDwINLU&t=327s\")\n",
    "it = InnerTube(client_name=\"WEB\")\n",
    "data = it.next(yt.video_id)\n",
    "params = extract_transcript_params(data)\n",
    "transcript = it.get_transcript(params)\n",
    "chapters = get_chapters(transcript)\n",
    "\n",
    "for chapter in chapters:\n",
    "    fancy_start_tm = timedelta(seconds=chapter[\"start\"])\n",
    "    print(f\"{fancy_start_tm} {chapter['label']}\")"
   ]
  }
 ],
 "metadata": {
  "kernelspec": {
   "display_name": "utube",
   "language": "python",
   "name": "python3"
  },
  "language_info": {
   "codemirror_mode": {
    "name": "ipython",
    "version": 3
   },
   "file_extension": ".py",
   "mimetype": "text/x-python",
   "name": "python",
   "nbconvert_exporter": "python",
   "pygments_lexer": "ipython3",
   "version": "3.10.16"
  }
 },
 "nbformat": 4,
 "nbformat_minor": 2
}
